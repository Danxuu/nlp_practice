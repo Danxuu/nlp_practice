{
  "nbformat": 4,
  "nbformat_minor": 0,
  "metadata": {
    "colab": {
      "name": "Untitled0.ipynb",
      "provenance": []
    },
    "kernelspec": {
      "name": "python3",
      "display_name": "Python 3"
    },
    "language_info": {
      "name": "python"
    }
  },
  "cells": [
    {
      "cell_type": "code",
      "metadata": {
        "colab": {
          "base_uri": "https://localhost:8080/"
        },
        "id": "BmvhILazAsUd",
        "outputId": "d287654c-bd90-41d2-9353-3e77705c4cfd"
      },
      "source": [
        "print('hello world')"
      ],
      "execution_count": 1,
      "outputs": [
        {
          "output_type": "stream",
          "name": "stdout",
          "text": [
            "hello world\n"
          ]
        }
      ]
    },
    {
      "cell_type": "code",
      "metadata": {
        "colab": {
          "base_uri": "https://localhost:8080/"
        },
        "id": "FobeZ6pjyqGt",
        "outputId": "fc60557c-81e3-4b39-f650-aca11a3acc60"
      },
      "source": [
        "months=\"janfebmaraprmayjunjulaugsepoctnovdec\"\n",
        "n=input(\"please type month number(1-12):\")\n",
        "pos=(int(n)-1)*3\n",
        "monthabbrev=months[pos:pos+3]\n",
        "print(\"month abbrev is \"+monthabbrev+\".\")\n"
      ],
      "execution_count": 3,
      "outputs": [
        {
          "output_type": "stream",
          "name": "stdout",
          "text": [
            "please type month number(1-12):8\n",
            "month abbrev is aug.\n"
          ]
        }
      ]
    },
    {
      "cell_type": "code",
      "metadata": {
        "colab": {
          "base_uri": "https://localhost:8080/"
        },
        "id": "cXygp44-cK-N",
        "outputId": "3b2be4f6-d833-4e45-e755-fdb82c9f553d"
      },
      "source": [
        "import pandas as pd\n",
        "import numpy as np\n",
        "\n",
        "#for text pre-processing\n",
        "import re, string\n",
        "import nltk\n",
        "from nltk.tokenize import word_tokenize\n",
        "from nltk.corpus import stopwords\n",
        "from nltk.tokenize import word_tokenize\n",
        "from nltk.stem import SnowballStemmer\n",
        "from nltk.corpus import wordnet\n",
        "from nltk.stem import WordNetLemmatizer\n",
        "nltk.download('punkt')\n",
        "nltk.download('averaged_perceptron_tagger')\n",
        "nltk.download('wordnet')\n",
        "#for model-building\n",
        "from sklearn.model_selection import train_test_split\n",
        "from sklearn.linear_model import LogisticRegression\n",
        "from sklearn.naive_bayes import MultinomialNB\n",
        "from sklearn.metrics import classification_report, f1_score, accuracy_score, confusion_matrix\n",
        "from sklearn.metrics import roc_curve, auc, roc_auc_score\n",
        "# bag of words\n",
        "from sklearn.feature_extraction.text import TfidfVectorizer\n",
        "from sklearn.feature_extraction.text import CountVectorizer\n",
        "#for word embedding\n",
        "import gensim\n",
        "from gensim.models import Word2Vec"
      ],
      "execution_count": 1,
      "outputs": [
        {
          "output_type": "stream",
          "name": "stdout",
          "text": [
            "[nltk_data] Downloading package punkt to /root/nltk_data...\n",
            "[nltk_data]   Unzipping tokenizers/punkt.zip.\n",
            "[nltk_data] Downloading package averaged_perceptron_tagger to\n",
            "[nltk_data]     /root/nltk_data...\n",
            "[nltk_data]   Unzipping taggers/averaged_perceptron_tagger.zip.\n",
            "[nltk_data] Downloading package wordnet to /root/nltk_data...\n",
            "[nltk_data]   Unzipping corpora/wordnet.zip.\n"
          ]
        }
      ]
    },
    {
      "cell_type": "code",
      "metadata": {
        "id": "lIc9If0LiaW8"
      },
      "source": [
        "import seaborn as sns\n"
      ],
      "execution_count": 11,
      "outputs": []
    },
    {
      "cell_type": "code",
      "metadata": {
        "colab": {
          "base_uri": "https://localhost:8080/",
          "height": 221
        },
        "id": "kGyxozdtffHD",
        "outputId": "3ab7ac76-c354-4a9c-de7b-9bdc8eeb4cb4"
      },
      "source": [
        "import os\n",
        "os.chdir('/content')\n",
        "df_train=pd.read_csv('train.csv')\n",
        "print(df_train.shape)\n",
        "df_train.head()"
      ],
      "execution_count": 12,
      "outputs": [
        {
          "output_type": "stream",
          "name": "stdout",
          "text": [
            "(7613, 5)\n"
          ]
        },
        {
          "output_type": "execute_result",
          "data": {
            "text/html": [
              "<div>\n",
              "<style scoped>\n",
              "    .dataframe tbody tr th:only-of-type {\n",
              "        vertical-align: middle;\n",
              "    }\n",
              "\n",
              "    .dataframe tbody tr th {\n",
              "        vertical-align: top;\n",
              "    }\n",
              "\n",
              "    .dataframe thead th {\n",
              "        text-align: right;\n",
              "    }\n",
              "</style>\n",
              "<table border=\"1\" class=\"dataframe\">\n",
              "  <thead>\n",
              "    <tr style=\"text-align: right;\">\n",
              "      <th></th>\n",
              "      <th>id</th>\n",
              "      <th>keyword</th>\n",
              "      <th>location</th>\n",
              "      <th>text</th>\n",
              "      <th>target</th>\n",
              "    </tr>\n",
              "  </thead>\n",
              "  <tbody>\n",
              "    <tr>\n",
              "      <th>0</th>\n",
              "      <td>1</td>\n",
              "      <td>NaN</td>\n",
              "      <td>NaN</td>\n",
              "      <td>Our Deeds are the Reason of this #earthquake M...</td>\n",
              "      <td>1</td>\n",
              "    </tr>\n",
              "    <tr>\n",
              "      <th>1</th>\n",
              "      <td>4</td>\n",
              "      <td>NaN</td>\n",
              "      <td>NaN</td>\n",
              "      <td>Forest fire near La Ronge Sask. Canada</td>\n",
              "      <td>1</td>\n",
              "    </tr>\n",
              "    <tr>\n",
              "      <th>2</th>\n",
              "      <td>5</td>\n",
              "      <td>NaN</td>\n",
              "      <td>NaN</td>\n",
              "      <td>All residents asked to 'shelter in place' are ...</td>\n",
              "      <td>1</td>\n",
              "    </tr>\n",
              "    <tr>\n",
              "      <th>3</th>\n",
              "      <td>6</td>\n",
              "      <td>NaN</td>\n",
              "      <td>NaN</td>\n",
              "      <td>13,000 people receive #wildfires evacuation or...</td>\n",
              "      <td>1</td>\n",
              "    </tr>\n",
              "    <tr>\n",
              "      <th>4</th>\n",
              "      <td>7</td>\n",
              "      <td>NaN</td>\n",
              "      <td>NaN</td>\n",
              "      <td>Just got sent this photo from Ruby #Alaska as ...</td>\n",
              "      <td>1</td>\n",
              "    </tr>\n",
              "  </tbody>\n",
              "</table>\n",
              "</div>"
            ],
            "text/plain": [
              "   id keyword  ...                                               text target\n",
              "0   1     NaN  ...  Our Deeds are the Reason of this #earthquake M...      1\n",
              "1   4     NaN  ...             Forest fire near La Ronge Sask. Canada      1\n",
              "2   5     NaN  ...  All residents asked to 'shelter in place' are ...      1\n",
              "3   6     NaN  ...  13,000 people receive #wildfires evacuation or...      1\n",
              "4   7     NaN  ...  Just got sent this photo from Ruby #Alaska as ...      1\n",
              "\n",
              "[5 rows x 5 columns]"
            ]
          },
          "metadata": {},
          "execution_count": 12
        }
      ]
    },
    {
      "cell_type": "code",
      "metadata": {
        "colab": {
          "base_uri": "https://localhost:8080/",
          "height": 390
        },
        "id": "YoFWWJd3ghCm",
        "outputId": "b82941e3-a3a4-4f74-eb7d-9d43ffec3d60"
      },
      "source": [
        "# CLASS DISTRIBUTION\n",
        "#if dataset is balanced or not\n",
        "x=df_train['target'].value_counts()\n",
        "print(x)\n",
        "sns.barplot(x.index,x)"
      ],
      "execution_count": 13,
      "outputs": [
        {
          "output_type": "stream",
          "name": "stdout",
          "text": [
            "0    4342\n",
            "1    3271\n",
            "Name: target, dtype: int64\n"
          ]
        },
        {
          "output_type": "stream",
          "name": "stderr",
          "text": [
            "/usr/local/lib/python3.7/dist-packages/seaborn/_decorators.py:43: FutureWarning: Pass the following variables as keyword args: x, y. From version 0.12, the only valid positional argument will be `data`, and passing other arguments without an explicit keyword will result in an error or misinterpretation.\n",
            "  FutureWarning\n"
          ]
        },
        {
          "output_type": "execute_result",
          "data": {
            "text/plain": [
              "<matplotlib.axes._subplots.AxesSubplot at 0x7f9a7f900fd0>"
            ]
          },
          "metadata": {},
          "execution_count": 13
        },
        {
          "output_type": "display_data",
          "data": {
            "image/png": "[encoded data removed]",
            "text/plain": [
              "<Figure size 432x288 with 1 Axes>"
            ]
          },
          "metadata": {}
        }
      ]
    },
    {
      "cell_type": "code",
      "metadata": {
        "colab": {
          "base_uri": "https://localhost:8080/"
        },
        "id": "D92jrzvOjX0n",
        "outputId": "8565e526-9828-4832-bd5f-e54c172f0fce"
      },
      "source": [
        "#Missing values\n",
        "df_train.isna().sum()"
      ],
      "execution_count": 14,
      "outputs": [
        {
          "output_type": "execute_result",
          "data": {
            "text/plain": [
              "id             0\n",
              "keyword       61\n",
              "location    2533\n",
              "text           0\n",
              "target         0\n",
              "dtype: int64"
            ]
          },
          "metadata": {},
          "execution_count": 14
        }
      ]
    },
    {
      "cell_type": "code",
      "metadata": {
        "colab": {
          "base_uri": "https://localhost:8080/"
        },
        "id": "HBYekfLljco3",
        "outputId": "5d1c0b5c-a989-4e70-d523-790492937678"
      },
      "source": [
        "#1. WORD-COUNT\n",
        "df_train['word_count'] = df_train['text'].apply(lambda x: len(str(x).split()))\n",
        "print(df_train[df_train['target']==1]['word_count'].mean()) #Disaster tweets\n",
        "print(df_train[df_train['target']==0]['word_count'].mean()) #Non-Disaster tweets\n",
        "#Disaster tweets are more wordy than the non-disaster tweets\n",
        "\n",
        "#2. CHARACTER-COUNT\n",
        "df_train['char_count'] = df_train['text'].apply(lambda x: len(str(x)))\n",
        "print(df_train[df_train['target']==1]['char_count'].mean()) #Disaster tweets\n",
        "print(df_train[df_train['target']==0]['char_count'].mean()) #Non-Disaster tweets\n",
        "#Disaster tweets are longer than the non-disaster tweets\n",
        "\n",
        "#3. UNIQUE WORD-COUNT\n",
        "df_train['unique_word_count'] = df_train['text'].apply(lambda x: len(set(str(x).split())))\n",
        "print(df_train[df_train['target']==1]['unique_word_count'].mean()) #Disaster tweets\n",
        "print(df_train[df_train['target']==0]['unique_word_count'].mean()) #Non-Disaster tweets\n"
      ],
      "execution_count": 15,
      "outputs": [
        {
          "output_type": "stream",
          "name": "stdout",
          "text": [
            "15.167532864567411\n",
            "14.704744357438969\n",
            "108.11342097217977\n",
            "95.70681713496084\n",
            "14.664934270865178\n",
            "14.09649930907416\n"
          ]
        }
      ]
    },
    {
      "cell_type": "code",
      "metadata": {
        "colab": {
          "base_uri": "https://localhost:8080/",
          "height": 297
        },
        "id": "SrwNWje1j_VJ",
        "outputId": "bd67e4c6-9379-4a17-afc0-f82e6bdb1d17"
      },
      "source": [
        "#Plotting word-count per tweet\n",
        "fig,(ax1,ax2)=plt.subplots(1,2,figsize=(10,4))\n",
        "train_words=df_train[df_train['target']==1]['word_count']\n",
        "ax1.hist(train_words,color='red')\n",
        "ax1.set_title('Disaster tweets')\n",
        "train_words=df_train[df_train['target']==0]['word_count']\n",
        "ax2.hist(train_words,color='green')\n",
        "ax2.set_title('Non-disaster tweets')\n",
        "fig.suptitle('Words per tweet')\n",
        "plt.show()\n"
      ],
      "execution_count": 16,
      "outputs": [
        {
          "output_type": "display_data",
          "data": {
            "image/png": "[encoded data removed]",
            "text/plain": [
              "<Figure size 720x288 with 2 Axes>"
            ]
          },
          "metadata": {}
        }
      ]
    },
    {
      "cell_type": "code",
      "metadata": {
        "colab": {
          "base_uri": "https://localhost:8080/"
        },
        "id": "WJ_nyXpSmgTo",
        "outputId": "e1d78ba1-0133-4357-a878-8b7ccf127af3"
      },
      "source": [
        "#1. Common text preprocessing\n",
        "text = \"   This is a message to be cleaned. It may involve some things like: <br>, ?, :, ''  adjacent spaces and tabs     .  \"\n",
        "\n",
        "#convert to lowercase and remove punctuations and characters and then strip\n",
        "def preprocess(text):\n",
        "    text = text.lower() #lowercase text\n",
        "    text=text.strip()  #get rid of leading/trailing whitespace \n",
        "    text=re.compile('<.*?>').sub('', text) #Remove HTML tags/markups\n",
        "    text = re.compile('[%s]' % re.escape(string.punctuation)).sub(' ', text)  #Replace punctuation with space. Careful since punctuation can sometime be useful\n",
        "    text = re.sub('\\s+', ' ', text)  #Remove extra space and tabs\n",
        "    text = re.sub(r'\\[[0-9]*\\]',' ',text) #[0-9] matches any digit (0 to 10000...)\n",
        "    text=re.sub(r'[^\\w\\s]', '', str(text).lower().strip())\n",
        "    text = re.sub(r'\\d',' ',text) #matches any digit from 0 to 100000..., \\D matches non-digits\n",
        "    text = re.sub(r'\\s+',' ',text) #\\s matches any whitespace, \\s+ matches multiple whitespace, \\S matches non-whitespace \n",
        "    \n",
        "    return text\n",
        "\n",
        "text=preprocess(text)\n",
        "print(text)  #text is a string"
      ],
      "execution_count": 17,
      "outputs": [
        {
          "output_type": "stream",
          "name": "stdout",
          "text": [
            "this is a message to be cleaned it may involve some things like adjacent spaces and tabs\n"
          ]
        }
      ]
    },
    {
      "cell_type": "code",
      "metadata": {
        "colab": {
          "base_uri": "https://localhost:8080/"
        },
        "id": "lwPWurZ6w9OV",
        "outputId": "3fd9894c-3d5a-4684-cb91-44077da57ac9"
      },
      "source": [
        "import nltk\n",
        "nltk.download('stopwords')\n"
      ],
      "execution_count": 20,
      "outputs": [
        {
          "output_type": "stream",
          "name": "stdout",
          "text": [
            "[nltk_data] Downloading package stopwords to /root/nltk_data...\n",
            "[nltk_data]   Unzipping corpora/stopwords.zip.\n"
          ]
        },
        {
          "output_type": "execute_result",
          "data": {
            "text/plain": [
              "True"
            ]
          },
          "metadata": {},
          "execution_count": 20
        }
      ]
    },
    {
      "cell_type": "code",
      "metadata": {
        "colab": {
          "base_uri": "https://localhost:8080/"
        },
        "id": "PboCAb_0v8EG",
        "outputId": "375a56a3-6a1f-4e52-b012-4090f1208e44"
      },
      "source": [
        "#3. LEXICON-BASED TEXT PROCESSING EXAMPLES\n",
        " \n",
        "#1. STOPWORD REMOVAL\n",
        "def stopword(string):\n",
        "    a= [i for i in string.split() if i not in stopwords.words('english')]\n",
        "    return ' '.join(a)\n",
        "\n",
        "text=stopword(text)\n",
        "print(text)\n",
        "\n",
        "#2. STEMMING\n",
        " \n",
        "# Initialize the stemmer\n",
        "snow = SnowballStemmer('english')\n",
        "def stemming(string):\n",
        "    a=[snow.stem(i) for i in word_tokenize(string) ]\n",
        "    return \" \".join(a)\n",
        "text=stemming(text)\n",
        "print(text)\n",
        "\n",
        "#3. LEMMATIZATION\n",
        "# Initialize the lemmatizer\n",
        "wl = WordNetLemmatizer()\n",
        " \n",
        "# This is a helper function to map NTLK position tags\n",
        "# Full list is available here: https://www.ling.upenn.edu/courses/Fall_2003/ling001/penn_treebank_pos.html\n",
        "def get_wordnet_pos(tag):\n",
        "    if tag.startswith('J'):\n",
        "        return wordnet.ADJ\n",
        "    elif tag.startswith('V'):\n",
        "        return wordnet.VERB\n",
        "    elif tag.startswith('N'):\n",
        "        return wordnet.NOUN\n",
        "    elif tag.startswith('R'):\n",
        "        return wordnet.ADV\n",
        "    else:\n",
        "        return wordnet.NOUN\n",
        "\n",
        "# Tokenize the sentence\n",
        "def lemmatizer(string):\n",
        "    word_pos_tags = nltk.pos_tag(word_tokenize(string)) # Get position tags\n",
        "    a=[wl.lemmatize(tag[0], get_wordnet_pos(tag[1])) for idx, tag in enumerate(word_pos_tags)] # Map the position tag and lemmatize the word/token\n",
        "    return \" \".join(a)\n",
        "\n",
        "text = lemmatizer(text)\n",
        "print(text)"
      ],
      "execution_count": 21,
      "outputs": [
        {
          "output_type": "stream",
          "name": "stdout",
          "text": [
            "message cleaned may involve things like adjacent spaces tabs\n",
            "messag clean may involv thing like adjac space tab\n",
            "messag clean may involv thing like adjac space tab\n"
          ]
        }
      ]
    },
    {
      "cell_type": "code",
      "metadata": {
        "colab": {
          "base_uri": "https://localhost:8080/",
          "height": 204
        },
        "id": "6s_2KALCzDsO",
        "outputId": "8fc2d9d0-6bc6-4502-f157-4eb86e432218"
      },
      "source": [
        "#FINAL PREPROCESSING\n",
        "def finalpreprocess(string):\n",
        "    return lemmatizer(stopword(preprocess(string)))\n",
        "\n",
        "df_train['clean_text'] = df_train['text'].apply(lambda x: finalpreprocess(x))\n",
        "df_train=df_train.drop(columns=['word_count','char_count','unique_word_count'])\n",
        "df_train.head()\n"
      ],
      "execution_count": 22,
      "outputs": [
        {
          "output_type": "execute_result",
          "data": {
            "text/html": [
              "<div>\n",
              "<style scoped>\n",
              "    .dataframe tbody tr th:only-of-type {\n",
              "        vertical-align: middle;\n",
              "    }\n",
              "\n",
              "    .dataframe tbody tr th {\n",
              "        vertical-align: top;\n",
              "    }\n",
              "\n",
              "    .dataframe thead th {\n",
              "        text-align: right;\n",
              "    }\n",
              "</style>\n",
              "<table border=\"1\" class=\"dataframe\">\n",
              "  <thead>\n",
              "    <tr style=\"text-align: right;\">\n",
              "      <th></th>\n",
              "      <th>id</th>\n",
              "      <th>keyword</th>\n",
              "      <th>location</th>\n",
              "      <th>text</th>\n",
              "      <th>target</th>\n",
              "      <th>clean_text</th>\n",
              "    </tr>\n",
              "  </thead>\n",
              "  <tbody>\n",
              "    <tr>\n",
              "      <th>0</th>\n",
              "      <td>1</td>\n",
              "      <td>NaN</td>\n",
              "      <td>NaN</td>\n",
              "      <td>Our Deeds are the Reason of this #earthquake M...</td>\n",
              "      <td>1</td>\n",
              "      <td>deed reason earthquake may allah forgive u</td>\n",
              "    </tr>\n",
              "    <tr>\n",
              "      <th>1</th>\n",
              "      <td>4</td>\n",
              "      <td>NaN</td>\n",
              "      <td>NaN</td>\n",
              "      <td>Forest fire near La Ronge Sask. Canada</td>\n",
              "      <td>1</td>\n",
              "      <td>forest fire near la ronge sask canada</td>\n",
              "    </tr>\n",
              "    <tr>\n",
              "      <th>2</th>\n",
              "      <td>5</td>\n",
              "      <td>NaN</td>\n",
              "      <td>NaN</td>\n",
              "      <td>All residents asked to 'shelter in place' are ...</td>\n",
              "      <td>1</td>\n",
              "      <td>resident ask shelter place notify officer evac...</td>\n",
              "    </tr>\n",
              "    <tr>\n",
              "      <th>3</th>\n",
              "      <td>6</td>\n",
              "      <td>NaN</td>\n",
              "      <td>NaN</td>\n",
              "      <td>13,000 people receive #wildfires evacuation or...</td>\n",
              "      <td>1</td>\n",
              "      <td>people receive wildfire evacuation order calif...</td>\n",
              "    </tr>\n",
              "    <tr>\n",
              "      <th>4</th>\n",
              "      <td>7</td>\n",
              "      <td>NaN</td>\n",
              "      <td>NaN</td>\n",
              "      <td>Just got sent this photo from Ruby #Alaska as ...</td>\n",
              "      <td>1</td>\n",
              "      <td>get sent photo ruby alaska smoke wildfires pou...</td>\n",
              "    </tr>\n",
              "  </tbody>\n",
              "</table>\n",
              "</div>"
            ],
            "text/plain": [
              "   id keyword  ... target                                         clean_text\n",
              "0   1     NaN  ...      1         deed reason earthquake may allah forgive u\n",
              "1   4     NaN  ...      1              forest fire near la ronge sask canada\n",
              "2   5     NaN  ...      1  resident ask shelter place notify officer evac...\n",
              "3   6     NaN  ...      1  people receive wildfire evacuation order calif...\n",
              "4   7     NaN  ...      1  get sent photo ruby alaska smoke wildfires pou...\n",
              "\n",
              "[5 rows x 6 columns]"
            ]
          },
          "metadata": {},
          "execution_count": 22
        }
      ]
    },
    {
      "cell_type": "code",
      "metadata": {
        "colab": {
          "base_uri": "https://localhost:8080/"
        },
        "id": "7NnUcW4fza0N",
        "outputId": "f6d71ef9-3cf8-4117-d54e-8b32b88fda3c"
      },
      "source": [
        "# create Word2vec model\n",
        "#here words_f should be a list containing words from each document. say 1st row of the list is words from the 1st document/sentence\n",
        "#length of words_f is number of documents/sentences in your dataset\n",
        "df_train['clean_text_tok']=[nltk.word_tokenize(i) for i in df_train['clean_text']] #convert preprocessed sentence to tokenized sentence\n",
        "model = Word2Vec(df_train['clean_text_tok'],min_count=1)  #min_count=1 means word should be present at least across all documents,\n",
        "#if min_count=2 means if the word is present less than 2 times across all the documents then we shouldn't consider it\n",
        "\n",
        "\n",
        "w2v = dict(zip(model.wv.index2word, model.wv.syn0))  #combination of word and its vector\n",
        "\n",
        "#for converting sentence to vectors/numbers from word vectors result by Word2Vec\n",
        "class MeanEmbeddingVectorizer(object):\n",
        "    def __init__(self, word2vec):\n",
        "        self.word2vec = word2vec\n",
        "        # if a text is empty we should return a vector of zeros\n",
        "        # with the same dimensionality as all the other vectors\n",
        "        self.dim = len(next(iter(word2vec.values())))\n",
        "\n",
        "    def fit(self, X, y):\n",
        "        return self\n",
        "\n",
        "    def transform(self, X):\n",
        "        return np.array([\n",
        "            np.mean([self.word2vec[w] for w in words if w in self.word2vec]\n",
        "                    or [np.zeros(self.dim)], axis=0)\n",
        "            for words in X\n",
        "        ])"
      ],
      "execution_count": 23,
      "outputs": [
        {
          "output_type": "stream",
          "name": "stderr",
          "text": [
            "/usr/local/lib/python3.7/dist-packages/ipykernel_launcher.py:9: DeprecationWarning: Call to deprecated `syn0` (Attribute will be removed in 4.0.0, use self.wv.vectors instead).\n",
            "  if __name__ == '__main__':\n"
          ]
        }
      ]
    },
    {
      "cell_type": "code",
      "metadata": {
        "id": "NtI4UVaYznfb"
      },
      "source": [
        "#SPLITTING THE TRAINING DATASET INTO TRAINING AND VALIDATION\n",
        " \n",
        "# Input: \"reviewText\", \"rating\" and \"time\"\n",
        "# Target: \"log_votes\"\n",
        "X_train, X_val, y_train, y_val = train_test_split(df_train[\"clean_text\"],\n",
        "                                                  df_train[\"target\"],\n",
        "                                                  test_size=0.2,\n",
        "                                                  shuffle=True)\n",
        "X_train_tok= [nltk.word_tokenize(i) for i in X_train]  #for word2vec\n",
        "X_val_tok= [nltk.word_tokenize(i) for i in X_val]      #for word2vec\n",
        "\n",
        "#TF-IDF\n",
        "# Convert x_train to vector since model can only run on numbers and not words- Fit and transform\n",
        "tfidf_vectorizer = TfidfVectorizer(use_idf=True)\n",
        "X_train_vectors_tfidf = tfidf_vectorizer.fit_transform(X_train) #tfidf runs on non-tokenized sentences unlike word2vec\n",
        "# Only transform x_test (not fit and transform)\n",
        "X_val_vectors_tfidf = tfidf_vectorizer.transform(X_val) #Don't fit() your TfidfVectorizer to your test data: it will \n",
        "#change the word-indexes & weights to match test data. Rather, fit on the training data, then use the same train-data-\n",
        "#fit model on the test data, to reflect the fact you're analyzing the test data only based on what was learned without \n",
        "#it, and the have compatible\n",
        "\n",
        "\n",
        "#Word2vec\n",
        "# Fit and transform\n",
        "modelw = MeanEmbeddingVectorizer(w2v)\n",
        "X_train_vectors_w2v = modelw.transform(X_train_tok)\n",
        "X_val_vectors_w2v = modelw.transform(X_val_tok)\n"
      ],
      "execution_count": 24,
      "outputs": []
    },
    {
      "cell_type": "code",
      "metadata": {
        "colab": {
          "base_uri": "https://localhost:8080/"
        },
        "id": "So25cowHzsxg",
        "outputId": "7bab6cef-ef29-4ec6-ffe2-36a9939a4bac"
      },
      "source": [
        "#FITTING THE CLASSIFICATION MODEL using Logistic Regression(tf-idf)\n",
        "\n",
        "lr_tfidf=LogisticRegression(solver = 'liblinear', C=10, penalty = 'l2')\n",
        "lr_tfidf.fit(X_train_vectors_tfidf, y_train)  #model\n",
        "\n",
        "#Predict y value for test dataset\n",
        "y_predict = lr_tfidf.predict(X_val_vectors_tfidf)\n",
        "y_prob = lr_tfidf.predict_proba(X_val_vectors_tfidf)[:,1]\n",
        " \n",
        "\n",
        "print(classification_report(y_val,y_predict))\n",
        "print('Confusion Matrix:',confusion_matrix(y_val, y_predict))\n",
        " \n",
        "fpr, tpr, thresholds = roc_curve(y_val, y_prob)\n",
        "roc_auc = auc(fpr, tpr)\n",
        "print('AUC:', roc_auc)  \n"
      ],
      "execution_count": 25,
      "outputs": [
        {
          "output_type": "stream",
          "name": "stdout",
          "text": [
            "              precision    recall  f1-score   support\n",
            "\n",
            "           0       0.80      0.81      0.81       882\n",
            "           1       0.74      0.73      0.73       641\n",
            "\n",
            "    accuracy                           0.78      1523\n",
            "   macro avg       0.77      0.77      0.77      1523\n",
            "weighted avg       0.78      0.78      0.78      1523\n",
            "\n",
            "Confusion Matrix: [[718 164]\n",
            " [174 467]]\n",
            "AUC: 0.8454468110697216\n"
          ]
        }
      ]
    },
    {
      "cell_type": "code",
      "metadata": {
        "colab": {
          "base_uri": "https://localhost:8080/"
        },
        "id": "d3cp2D8z06tu",
        "outputId": "9a6ad884-ddd7-4736-c86e-4fb2cb5204a5"
      },
      "source": [
        "#FITTING THE CLASSIFICATION MODEL using Naive Bayes(tf-idf)\n",
        "#It's a probabilistic classifier that makes use of Bayes' Theorem, a rule that uses probability to make predictions based on prior knowledge of conditions that might be related. This algorithm is the most suitable for such large dataset as it considers each feature independently, calculates the probability of each category, and then predicts the category with the highest probability.\n",
        "\n",
        "nb_tfidf = MultinomialNB()\n",
        "nb_tfidf.fit(X_train_vectors_tfidf, y_train)  #model\n",
        "\n",
        "#Predict y value for test dataset\n",
        "y_predict = nb_tfidf.predict(X_val_vectors_tfidf)\n",
        "y_prob = nb_tfidf.predict_proba(X_val_vectors_tfidf)[:,1]\n",
        " \n",
        "\n",
        "print(classification_report(y_val,y_predict))\n",
        "print('Confusion Matrix:',confusion_matrix(y_val, y_predict))\n",
        " \n",
        "fpr, tpr, thresholds = roc_curve(y_val, y_prob)\n",
        "roc_auc = auc(fpr, tpr)\n",
        "print('AUC:', roc_auc)  "
      ],
      "execution_count": 26,
      "outputs": [
        {
          "output_type": "stream",
          "name": "stdout",
          "text": [
            "              precision    recall  f1-score   support\n",
            "\n",
            "           0       0.77      0.90      0.83       882\n",
            "           1       0.82      0.64      0.72       641\n",
            "\n",
            "    accuracy                           0.79      1523\n",
            "   macro avg       0.79      0.77      0.77      1523\n",
            "weighted avg       0.79      0.79      0.78      1523\n",
            "\n",
            "Confusion Matrix: [[790  92]\n",
            " [232 409]]\n",
            "AUC: 0.83996713610041\n"
          ]
        }
      ]
    },
    {
      "cell_type": "code",
      "metadata": {
        "colab": {
          "base_uri": "https://localhost:8080/"
        },
        "id": "wPqBM8jL1A-0",
        "outputId": "696cd894-4939-46a5-9be6-688210e2365f"
      },
      "source": [
        "#FITTING THE CLASSIFICATION MODEL using Logistic Regression (W2v)\n",
        "lr_w2v=LogisticRegression(solver = 'liblinear', C=10, penalty = 'l2')\n",
        "lr_w2v.fit(X_train_vectors_w2v, y_train)  #model\n",
        "\n",
        "#Predict y value for test dataset\n",
        "y_predict = lr_w2v.predict(X_val_vectors_w2v)\n",
        "y_prob = lr_w2v.predict_proba(X_val_vectors_w2v)[:,1]\n",
        " \n",
        "\n",
        "print(classification_report(y_val,y_predict))\n",
        "print('Confusion Matrix:',confusion_matrix(y_val, y_predict))\n",
        " \n",
        "fpr, tpr, thresholds = roc_curve(y_val, y_prob)\n",
        "roc_auc = auc(fpr, tpr)\n",
        "print('AUC:', roc_auc) \n"
      ],
      "execution_count": 27,
      "outputs": [
        {
          "output_type": "stream",
          "name": "stdout",
          "text": [
            "              precision    recall  f1-score   support\n",
            "\n",
            "           0       0.65      0.84      0.73       882\n",
            "           1       0.63      0.38      0.47       641\n",
            "\n",
            "    accuracy                           0.65      1523\n",
            "   macro avg       0.64      0.61      0.60      1523\n",
            "weighted avg       0.64      0.65      0.62      1523\n",
            "\n",
            "Confusion Matrix: [[739 143]\n",
            " [397 244]]\n",
            "AUC: 0.6786412953116764\n"
          ]
        }
      ]
    },
    {
      "cell_type": "code",
      "metadata": {
        "colab": {
          "base_uri": "https://localhost:8080/"
        },
        "id": "vjz3VFQj1FoN",
        "outputId": "07e6d425-c448-41d1-95bf-2eee31086f05"
      },
      "source": [
        "#Testing it on new dataset with the best model\n",
        "df_test=pd.read_csv('test.csv')  #reading the data\n",
        "df_test['clean_text'] = df_test['text'].apply(lambda x: finalpreprocess(x)) #preprocess the data\n",
        "X_test=df_test['clean_text'] \n",
        "X_vector=tfidf_vectorizer.transform(X_test) #converting X_test to vector\n",
        "y_predict = lr_tfidf.predict(X_vector)      #use the trained model on X_vector\n",
        "y_prob = lr_tfidf.predict_proba(X_vector)[:,1]\n",
        "df_test['predict_prob']= y_prob\n",
        "df_test['target']= y_predict\n",
        "print(df_test.head())\n",
        "final=df_test[['id','target']].reset_index(drop=True)\n",
        "final.to_csv('submission.csv')"
      ],
      "execution_count": 29,
      "outputs": [
        {
          "output_type": "stream",
          "name": "stdout",
          "text": [
            "   id keyword  ... predict_prob target\n",
            "0   0     NaN  ...     0.863654      1\n",
            "1   2     NaN  ...     0.754733      1\n",
            "2   3     NaN  ...     0.937769      1\n",
            "3   9     NaN  ...     0.780818      1\n",
            "4  11     NaN  ...     0.996700      1\n",
            "\n",
            "[5 rows x 7 columns]\n"
          ]
        }
      ]
    },
    {
      "cell_type": "code",
      "metadata": {
        "id": "N_icWqwh2LxI"
      },
      "source": [
        "final=df_test[['id','keyword','location','text','clean_text','predict_prob','target']].reset_index(drop=True)\n",
        "final.to_csv('submissionfull.csv')"
      ],
      "execution_count": 30,
      "outputs": []
    }
  ]
}